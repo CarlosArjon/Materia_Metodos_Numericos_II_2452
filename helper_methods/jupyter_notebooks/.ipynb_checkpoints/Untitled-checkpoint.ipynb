{
 "cells": [
  {
   "cell_type": "code",
   "execution_count": 1,
   "id": "9a639745-34bd-4a45-969f-ae717dd535a1",
   "metadata": {},
   "outputs": [],
   "source": [
    "from tools.fixed_point.fixed_point import FixedPoint\n",
    "from typing import Dict"
   ]
  },
  {
   "cell_type": "code",
   "execution_count": 2,
   "id": "a49f64e7-38fa-4cdd-aadc-d1ec57a16d4f",
   "metadata": {},
   "outputs": [
    {
     "name": "stdout",
     "output_type": "stream",
     "text": [
      "         x1            x2        x3         error\n",
      "0  0.500000  1.439589e-02 -0.523599  7.241291e-01\n",
      "1  0.499991 -1.387779e-17 -0.523240  1.440036e-02\n",
      "2  0.500000  1.858617e-05 -0.523599  3.592113e-04\n",
      "3  0.500000 -1.387779e-17 -0.523598  1.859198e-05\n",
      "4  0.500000  2.483857e-08 -0.523599  4.653156e-07\n"
     ]
    }
   ],
   "source": [
    "parameters = {}\n",
    "parameters[\"vector_iterator\"] = [0.0, 0.0, 0.0]\n",
    "parameters[\"vector_aux\"] = [0.0, 0.0, 0.0]\n",
    "parameters[\"table_output\"] = {\"x1\": [], \"x2\": [], \"x3\": []}\n",
    "\n",
    "fixed_point = FixedPoint(parameters)\n",
    "fixed_point.logic_numeric_method()"
   ]
  },
  {
   "cell_type": "markdown",
   "id": "b5ecc014-b6cb-45e0-b404-a1151340657f",
   "metadata": {},
   "source": [
    "# Metodo de Newton"
   ]
  },
  {
   "cell_type": "code",
   "execution_count": 2,
   "id": "60da69a0-162b-4d8e-897e-64794baf006f",
   "metadata": {},
   "outputs": [],
   "source": [
    "import numpy as np\n",
    "import pandas as pd\n",
    "import math"
   ]
  },
  {
   "cell_type": "code",
   "execution_count": 71,
   "id": "a82429eb-c3ca-46fe-8e50-0acc753b1d05",
   "metadata": {},
   "outputs": [],
   "source": [
    "vector_aux = [0.1, 0.1, -0.1]\n",
    "vector_iterator = [0.1, 0.1, -0.1]"
   ]
  },
  {
   "cell_type": "code",
   "execution_count": 72,
   "id": "f07d9565-c06e-4f8a-a48b-f48307aee8cd",
   "metadata": {},
   "outputs": [
    {
     "name": "stdout",
     "output_type": "stream",
     "text": [
      "[0.4998696729264285, 0.01946684853741809, -0.5215204719358306]\n",
      "[0.5000142401642189, 0.0015885913702938861, -0.5235569643476383]\n",
      "[0.5000001134678342, 1.2444783321546643e-05, -0.5235984500728894]\n",
      "[0.5000000000070757, 7.757857158527371e-10, -0.523598775578007]\n",
      "[0.5, 3.1383785617296515e-18, -0.5235987755982989]\n",
      "[0.5, 7.8927886514386e-18, -0.5235987755982988]\n"
     ]
    }
   ],
   "source": [
    "for i in range(6):\n",
    "    Jacobiana = np.matrix(\n",
    "                [\n",
    "                    [\n",
    "                        3,\n",
    "                        vector_iterator[2] * math.sin(vector_iterator[1] * vector_iterator[2]),\n",
    "                        vector_iterator[1] * math.sin(vector_iterator[1] * vector_iterator[2]),\n",
    "                    ],\n",
    "                    [\n",
    "                        2 * vector_iterator[0],\n",
    "                        -162 * (vector_iterator[1] + 0.1),\n",
    "                        math.cos(vector_iterator[2]),\n",
    "                    ],\n",
    "                    [\n",
    "                        (-1 * (vector_iterator[1]))\n",
    "                        * (\n",
    "                            math.exp(\n",
    "                                (-1)\n",
    "                                * vector_iterator[0]\n",
    "                                * vector_iterator[1]\n",
    "                            )\n",
    "                        ),\n",
    "                        (-1 * (vector_iterator[0]))\n",
    "                        * (\n",
    "                            math.exp(\n",
    "                                (-1)\n",
    "                                * vector_iterator[0]\n",
    "                                * vector_iterator[1]\n",
    "                            )\n",
    "                        )\n",
    "                        ,20\n",
    "                    ],\n",
    "                ]\n",
    "            )\n",
    "\n",
    "    Funcion = np.matrix(\n",
    "        [\n",
    "            [\n",
    "                (3 * (vector_iterator[0]))\n",
    "                - (math.cos(vector_iterator[1] * vector_iterator[2]))\n",
    "                - 0.5\n",
    "            ],\n",
    "            [\n",
    "                (math.pow(vector_iterator[0], 2))\n",
    "                - ((81) * (math.pow((vector_iterator[1] + 0.1), 2)))\n",
    "                    + (math.sin(vector_iterator[2]))\n",
    "                    + 1.06\n",
    "                \n",
    "            ],\n",
    "            [\n",
    "               (math.exp((-1) * vector_iterator[0] * vector_iterator[1]))\n",
    "                +20*(vector_iterator[2])+ (((10 * math.pi) - 3) / (3))\n",
    "            ],\n",
    "        ]\n",
    "    )\n",
    "\n",
    "    Funcion = -1*Funcion\n",
    "    \n",
    "    y = (Jacobiana**-1)*Funcion\n",
    "    \n",
    "    solucion = np.matrix([[vector_iterator[0]],[vector_iterator[1]],[vector_iterator[2]]])+y\n",
    "    \n",
    "    #asignacion aux\n",
    "    \n",
    "    vector_iterator = [\n",
    "    solucion.tolist()[0][0],\n",
    "    solucion.tolist()[1][0],\n",
    "    solucion.tolist()[2][0]\n",
    "    ]\n",
    "\n",
    "    print(vector_iterator)"
   ]
  },
  {
   "cell_type": "code",
   "execution_count": null,
   "id": "bb835796-3087-425a-bc78-9b92f8ab8b08",
   "metadata": {},
   "outputs": [],
   "source": []
  }
 ],
 "metadata": {
  "kernelspec": {
   "display_name": "Python 3 (ipykernel)",
   "language": "python",
   "name": "python3"
  },
  "language_info": {
   "codemirror_mode": {
    "name": "ipython",
    "version": 3
   },
   "file_extension": ".py",
   "mimetype": "text/x-python",
   "name": "python",
   "nbconvert_exporter": "python",
   "pygments_lexer": "ipython3",
   "version": "3.10.6"
  }
 },
 "nbformat": 4,
 "nbformat_minor": 5
}
