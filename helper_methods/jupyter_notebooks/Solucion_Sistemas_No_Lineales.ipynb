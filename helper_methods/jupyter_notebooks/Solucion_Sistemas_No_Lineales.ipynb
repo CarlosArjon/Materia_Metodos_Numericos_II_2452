{
 "cells": [
  {
   "cell_type": "code",
   "execution_count": 7,
   "id": "9a639745-34bd-4a45-969f-ae717dd535a1",
   "metadata": {},
   "outputs": [],
   "source": [
    "from tools.fixed_point.fixed_point import FixedPoint\n",
    "from typing import Dict"
   ]
  },
  {
   "cell_type": "code",
   "execution_count": 8,
   "id": "a49f64e7-38fa-4cdd-aadc-d1ec57a16d4f",
   "metadata": {},
   "outputs": [],
   "source": [
    "parameters = {}\n",
    "parameters[\"vector_iterator\"] = [0.1, 0.1, -0.1]\n",
    "parameters[\"vector_aux\"] = [0.0, 0.0, 0.0]\n",
    "parameters[\"table_output\"] = {\"x1\": [], \"x2\": [], \"x3\": []}"
   ]
  },
  {
   "cell_type": "code",
   "execution_count": 9,
   "id": "bb86aabb-3813-45ba-8182-04a26a19f4c5",
   "metadata": {},
   "outputs": [],
   "source": [
    "fixed_point = FixedPoint(parameters)"
   ]
  },
  {
   "cell_type": "code",
   "execution_count": 10,
   "id": "c8ccef81-159f-4e31-a806-f46e2eea8e93",
   "metadata": {},
   "outputs": [
    {
     "name": "stdout",
     "output_type": "stream",
     "text": [
      "         x1            x2        x3         error\n",
      "0  0.499983  9.441150e-03 -0.523101  5.892387e-01\n",
      "1  0.499996  2.556775e-05 -0.523363  9.419236e-03\n",
      "2  0.500000  1.233672e-05 -0.523598  2.352331e-04\n",
      "3  0.500000  3.416791e-08 -0.523598  1.230700e-05\n",
      "4  0.500000  1.648704e-08 -0.523599  3.080707e-07\n"
     ]
    }
   ],
   "source": [
    "fixed_point.logic_numeric_method()"
   ]
  },
  {
   "cell_type": "markdown",
   "id": "b5ecc014-b6cb-45e0-b404-a1151340657f",
   "metadata": {},
   "source": [
    "# Metodo de Newton"
   ]
  },
  {
   "cell_type": "code",
   "execution_count": 11,
   "id": "bb835796-3087-425a-bc78-9b92f8ab8b08",
   "metadata": {},
   "outputs": [],
   "source": [
    "from tools.newton.newton import Newton"
   ]
  },
  {
   "cell_type": "code",
   "execution_count": 12,
   "id": "cdfea5d3-6b52-41e1-9c2a-127b2de5aef5",
   "metadata": {},
   "outputs": [],
   "source": [
    "parameters = {}\n",
    "parameters[\"vector_iterator\"] = [0.1, 0.1, -0.1]"
   ]
  },
  {
   "cell_type": "code",
   "execution_count": 13,
   "id": "e3578d94-6eb2-4cf6-a083-7abf9f15ad47",
   "metadata": {},
   "outputs": [],
   "source": [
    "newton = Newton(parameters)"
   ]
  },
  {
   "cell_type": "code",
   "execution_count": 14,
   "id": "a6aa8d1c-d4a1-4ffd-9c0d-ecf9a0951850",
   "metadata": {},
   "outputs": [
    {
     "name": "stdout",
     "output_type": "stream",
     "text": [
      "[0.4998696729264285, 0.01946684853741809, -0.5215204719358306]\n",
      "[0.5000142401642189, 0.0015885913702938861, -0.5235569643476383]\n",
      "[0.5000001134678342, 1.2444783321546643e-05, -0.5235984500728894]\n",
      "[0.5000000000070757, 7.757857158527371e-10, -0.523598775578007]\n",
      "[0.5, 3.1383785617296515e-18, -0.5235987755982989]\n",
      "[0.5, 7.8927886514386e-18, -0.5235987755982988]\n"
     ]
    }
   ],
   "source": [
    "newton.logic_numeric_method()"
   ]
  },
  {
   "cell_type": "code",
   "execution_count": null,
   "id": "e796e227-72bb-450f-b736-7fcee580c5ef",
   "metadata": {},
   "outputs": [],
   "source": []
  }
 ],
 "metadata": {
  "kernelspec": {
   "display_name": "Python 3 (ipykernel)",
   "language": "python",
   "name": "python3"
  },
  "language_info": {
   "codemirror_mode": {
    "name": "ipython",
    "version": 3
   },
   "file_extension": ".py",
   "mimetype": "text/x-python",
   "name": "python",
   "nbconvert_exporter": "python",
   "pygments_lexer": "ipython3",
   "version": "3.10.6"
  }
 },
 "nbformat": 4,
 "nbformat_minor": 5
}
