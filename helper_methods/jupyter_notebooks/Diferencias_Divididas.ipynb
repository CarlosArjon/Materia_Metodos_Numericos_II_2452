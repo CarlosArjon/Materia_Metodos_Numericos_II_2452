{
 "cells": [
  {
   "cell_type": "code",
   "execution_count": 4,
   "id": "1d4017e7-5273-4915-8433-d4067ce5e926",
   "metadata": {
    "tags": []
   },
   "outputs": [],
   "source": [
    "# Polinomio interpolación\n",
    "# Diferencias Divididas de Newton\n",
    "# Tarea: Verificar tamaño de vectores,\n",
    "#        verificar puntos equidistantes en x\n",
    "import numpy as np\n",
    "import sympy as sym\n",
    "import matplotlib.pyplot as plt\n",
    "import pandas as pd\n",
    "\n",
    "# INGRESO , Datos de prueba\n",
    "xi = np.array([1.0, 1.3, 1.6, 1.9,2.2])\n",
    "fi = np.array([0.7651977, 0.6200860, 0.4554022, 0.2818186,0.1103623])\n",
    "\n",
    "#xi = np.array([1, 4, 5, 6,7])\n",
    "#fi = np.array([1,16,25,36,49])"
   ]
  },
  {
   "cell_type": "code",
   "execution_count": 5,
   "id": "dc11f2ec-39c5-491e-9288-51499d9cda01",
   "metadata": {
    "tags": []
   },
   "outputs": [],
   "source": [
    "\n",
    "titulo = ['i   ','xi  ','fi  ']\n",
    "n = len(xi)\n",
    "ki = np.arange(0,n,1)\n",
    "tabla = np.concatenate(([ki],[xi],[fi]),axis=0)\n",
    "tabla = np.transpose(tabla)\n",
    "\n",
    "# diferencias divididas vacia\n",
    "dfinita = np.zeros(shape=(n,n-1),dtype=float)\n",
    "tabla = np.concatenate((tabla,dfinita), axis=1)\n"
   ]
  },
  {
   "cell_type": "code",
   "execution_count": 6,
   "id": "3292c926-27b3-4e1b-b089-b946685b8179",
   "metadata": {
    "tags": []
   },
   "outputs": [
    {
     "data": {
      "text/plain": [
       "array([[0.       , 1.       , 0.7651977, 0.       , 0.       , 0.       ,\n",
       "        0.       ],\n",
       "       [1.       , 1.3      , 0.620086 , 0.       , 0.       , 0.       ,\n",
       "        0.       ],\n",
       "       [2.       , 1.6      , 0.4554022, 0.       , 0.       , 0.       ,\n",
       "        0.       ],\n",
       "       [3.       , 1.9      , 0.2818186, 0.       , 0.       , 0.       ,\n",
       "        0.       ],\n",
       "       [4.       , 2.2      , 0.1103623, 0.       , 0.       , 0.       ,\n",
       "        0.       ]])"
      ]
     },
     "execution_count": 6,
     "metadata": {},
     "output_type": "execute_result"
    }
   ],
   "source": [
    "tabla"
   ]
  },
  {
   "cell_type": "markdown",
   "id": "b347b7b3-02e0-43c2-b911-2ef3e27ee18d",
   "metadata": {},
   "source": [
    "# Interpolacion de Newton"
   ]
  },
  {
   "cell_type": "code",
   "execution_count": 7,
   "id": "2a8dfd5d-007c-4dec-80b1-81acbc07a9d1",
   "metadata": {
    "tags": []
   },
   "outputs": [],
   "source": [
    "# Calcula tabla, inicia en columna 3\n",
    "[n,m] = np.shape(tabla)\n",
    "diagonal = n-1\n",
    "j = 3\n",
    "while (j < m):\n",
    "    # Añade título para cada columna\n",
    "    titulo.append('F['+str(j-2)+']')\n",
    "\n",
    "    # cada fila de columna\n",
    "    i = 0\n",
    "    paso = j-2 # inicia en 1\n",
    "    while (i < diagonal):\n",
    "        denominador = (xi[i+paso]-xi[i])\n",
    "        numerador = tabla[i+1,j-1]-tabla[i,j-1]\n",
    "        tabla[i,j] = numerador/denominador\n",
    "        i = i+1\n",
    "    diagonal = diagonal - 1\n",
    "    j = j+1"
   ]
  },
  {
   "cell_type": "code",
   "execution_count": 9,
   "id": "72f714ee-1914-471a-a810-d0ec04a02b27",
   "metadata": {
    "tags": []
   },
   "outputs": [
    {
     "data": {
      "text/html": [
       "<div>\n",
       "<style scoped>\n",
       "    .dataframe tbody tr th:only-of-type {\n",
       "        vertical-align: middle;\n",
       "    }\n",
       "\n",
       "    .dataframe tbody tr th {\n",
       "        vertical-align: top;\n",
       "    }\n",
       "\n",
       "    .dataframe thead th {\n",
       "        text-align: right;\n",
       "    }\n",
       "</style>\n",
       "<table border=\"1\" class=\"dataframe\">\n",
       "  <thead>\n",
       "    <tr style=\"text-align: right;\">\n",
       "      <th></th>\n",
       "      <th>0</th>\n",
       "      <th>1</th>\n",
       "      <th>2</th>\n",
       "      <th>3</th>\n",
       "      <th>4</th>\n",
       "      <th>5</th>\n",
       "      <th>6</th>\n",
       "    </tr>\n",
       "  </thead>\n",
       "  <tbody>\n",
       "    <tr>\n",
       "      <th>0</th>\n",
       "      <td>0.0</td>\n",
       "      <td>1.0</td>\n",
       "      <td>0.765198</td>\n",
       "      <td>-0.483706</td>\n",
       "      <td>-0.108734</td>\n",
       "      <td>0.065878</td>\n",
       "      <td>0.001825</td>\n",
       "    </tr>\n",
       "    <tr>\n",
       "      <th>1</th>\n",
       "      <td>1.0</td>\n",
       "      <td>1.3</td>\n",
       "      <td>0.620086</td>\n",
       "      <td>-0.548946</td>\n",
       "      <td>-0.049443</td>\n",
       "      <td>0.068069</td>\n",
       "      <td>0.000000</td>\n",
       "    </tr>\n",
       "    <tr>\n",
       "      <th>2</th>\n",
       "      <td>2.0</td>\n",
       "      <td>1.6</td>\n",
       "      <td>0.455402</td>\n",
       "      <td>-0.578612</td>\n",
       "      <td>0.011818</td>\n",
       "      <td>0.000000</td>\n",
       "      <td>0.000000</td>\n",
       "    </tr>\n",
       "    <tr>\n",
       "      <th>3</th>\n",
       "      <td>3.0</td>\n",
       "      <td>1.9</td>\n",
       "      <td>0.281819</td>\n",
       "      <td>-0.571521</td>\n",
       "      <td>0.000000</td>\n",
       "      <td>0.000000</td>\n",
       "      <td>0.000000</td>\n",
       "    </tr>\n",
       "    <tr>\n",
       "      <th>4</th>\n",
       "      <td>4.0</td>\n",
       "      <td>2.2</td>\n",
       "      <td>0.110362</td>\n",
       "      <td>0.000000</td>\n",
       "      <td>0.000000</td>\n",
       "      <td>0.000000</td>\n",
       "      <td>0.000000</td>\n",
       "    </tr>\n",
       "  </tbody>\n",
       "</table>\n",
       "</div>"
      ],
      "text/plain": [
       "     0    1         2         3         4         5         6\n",
       "0  0.0  1.0  0.765198 -0.483706 -0.108734  0.065878  0.001825\n",
       "1  1.0  1.3  0.620086 -0.548946 -0.049443  0.068069  0.000000\n",
       "2  2.0  1.6  0.455402 -0.578612  0.011818  0.000000  0.000000\n",
       "3  3.0  1.9  0.281819 -0.571521  0.000000  0.000000  0.000000\n",
       "4  4.0  2.2  0.110362  0.000000  0.000000  0.000000  0.000000"
      ]
     },
     "execution_count": 9,
     "metadata": {},
     "output_type": "execute_result"
    }
   ],
   "source": [
    "pd.DataFrame(tabla)"
   ]
  },
  {
   "cell_type": "code",
   "execution_count": 8,
   "id": "afd98364-34cc-4cfe-8da9-ed9af2a003ee",
   "metadata": {
    "tags": []
   },
   "outputs": [
    {
     "name": "stdout",
     "output_type": "stream",
     "text": [
      "Tabla Diferencia Dividida\n",
      "[['i   ', 'xi  ', 'fi  ', 'F[1]', 'F[2]', 'F[3]', 'F[4]']]\n",
      "[[ 0.0000e+00  1.0000e+00  7.6520e-01 -4.8371e-01 -1.0873e-01  6.5878e-02\n",
      "   1.8251e-03]\n",
      " [ 1.0000e+00  1.3000e+00  6.2009e-01 -5.4895e-01 -4.9443e-02  6.8069e-02\n",
      "   0.0000e+00]\n",
      " [ 2.0000e+00  1.6000e+00  4.5540e-01 -5.7861e-01  1.1818e-02  0.0000e+00\n",
      "   0.0000e+00]\n",
      " [ 3.0000e+00  1.9000e+00  2.8182e-01 -5.7152e-01  0.0000e+00  0.0000e+00\n",
      "   0.0000e+00]\n",
      " [ 4.0000e+00  2.2000e+00  1.1036e-01  0.0000e+00  0.0000e+00  0.0000e+00\n",
      "   0.0000e+00]]\n",
      "dDividida: \n",
      "[-0.4837 -0.1087  0.0659  0.0018]\n",
      "polinomio: \n",
      "-0.483705666666666*x + 0.00182510288066044*(x - 1.9)*(x - 1.6)*(x - 1.3)*(x - 1.0) + 0.0658783950617283*(x - 1.6)*(x - 1.3)*(x - 1.0) - 0.108733888888889*(x - 1.3)*(x - 1.0) + 1.24890336666667\n",
      "polinomio simplificado: \n",
      "0.00182510288066044*x**4 + 0.0552927983538978*x**3 - 0.343046604938247*x**2 + 0.0733913477366034*x + 0.977735055967085\n"
     ]
    },
    {
     "data": {
      "image/png": "[encoded data removed]",
      "text/plain": [
       "<Figure size 640x480 with 1 Axes>"
      ]
     },
     "metadata": {},
     "output_type": "display_data"
    }
   ],
   "source": [
    "# POLINOMIO con diferencias Divididas\n",
    "# caso: puntos equidistantes en eje x\n",
    "dDividida = tabla[0,3:]\n",
    "n = len(dfinita)\n",
    "\n",
    "# expresión del polinomio con Sympy\n",
    "x = sym.Symbol('x')\n",
    "polinomio = fi[0]\n",
    "for j in range(1,n,1):\n",
    "    factor = dDividida[j-1]\n",
    "    termino = 1\n",
    "    for k in range(0,j,1):\n",
    "        termino = termino*(x-xi[k])\n",
    "    polinomio = polinomio + termino*factor\n",
    "\n",
    "# simplifica multiplicando entre (x-xi)\n",
    "polisimple = polinomio.expand()\n",
    "\n",
    "# polinomio para evaluacion numérica\n",
    "px = sym.lambdify(x,polisimple)\n",
    "\n",
    "# Puntos para la gráfica\n",
    "muestras = 101\n",
    "a = np.min(xi)\n",
    "b = np.max(xi)\n",
    "pxi = np.linspace(a,b,muestras)\n",
    "pfi = px(pxi)\n",
    "\n",
    "# SALIDA\n",
    "np.set_printoptions(precision = 4)\n",
    "print('Tabla Diferencia Dividida')\n",
    "print([titulo])\n",
    "print(tabla)\n",
    "print('dDividida: ')\n",
    "print(dDividida)\n",
    "print('polinomio: ')\n",
    "print(polinomio)\n",
    "print('polinomio simplificado: ' )\n",
    "print(polisimple)\n",
    "\n",
    "# Gráfica\n",
    "plt.plot(xi,fi,'o', label = 'Puntos')\n",
    "##for i in range(0,n,1):\n",
    "##    plt.axvline(xi[i],ls='--', color='yellow')\n",
    "plt.plot(pxi,pfi, label = 'Polinomio')\n",
    "plt.legend()\n",
    "plt.xlabel('xi')\n",
    "plt.ylabel('fi')\n",
    "plt.title('Diferencias Divididas - Newton')\n",
    "plt.show()"
   ]
  },
  {
   "cell_type": "markdown",
   "id": "e162fc03-1e7f-4011-bdfb-89251db0281e",
   "metadata": {},
   "source": [
    "# Newton progresiva"
   ]
  },
  {
   "cell_type": "code",
   "execution_count": 432,
   "id": "f49effbe-b3d6-4413-ba48-b613f6a6c867",
   "metadata": {
    "tags": []
   },
   "outputs": [],
   "source": [
    "progresiva = tabla[0,2:]"
   ]
  },
  {
   "cell_type": "code",
   "execution_count": 433,
   "id": "cb4aa8c9-d1b5-479c-a819-5ad18f727184",
   "metadata": {
    "tags": []
   },
   "outputs": [
    {
     "data": {
      "text/plain": [
       "array([ 0.7652, -0.4837, -0.1087,  0.0659,  0.0018])"
      ]
     },
     "execution_count": 433,
     "metadata": {},
     "output_type": "execute_result"
    }
   ],
   "source": [
    "progresiva"
   ]
  },
  {
   "cell_type": "markdown",
   "id": "6052adab-a785-4c77-9b6e-6e7577ef5455",
   "metadata": {},
   "source": [
    "# Newton regresiva"
   ]
  },
  {
   "cell_type": "code",
   "execution_count": 439,
   "id": "2e302440-ffce-43dd-a435-b0b4c8d69808",
   "metadata": {
    "tags": []
   },
   "outputs": [],
   "source": [
    "tabla_2 = tabla[:,2:]"
   ]
  },
  {
   "cell_type": "code",
   "execution_count": 440,
   "id": "9ee33602-c5c8-4bf5-9eb4-d0d6dd41e86d",
   "metadata": {
    "tags": []
   },
   "outputs": [
    {
     "data": {
      "text/html": [
       "<div>\n",
       "<style scoped>\n",
       "    .dataframe tbody tr th:only-of-type {\n",
       "        vertical-align: middle;\n",
       "    }\n",
       "\n",
       "    .dataframe tbody tr th {\n",
       "        vertical-align: top;\n",
       "    }\n",
       "\n",
       "    .dataframe thead th {\n",
       "        text-align: right;\n",
       "    }\n",
       "</style>\n",
       "<table border=\"1\" class=\"dataframe\">\n",
       "  <thead>\n",
       "    <tr style=\"text-align: right;\">\n",
       "      <th></th>\n",
       "      <th>0</th>\n",
       "      <th>1</th>\n",
       "      <th>2</th>\n",
       "      <th>3</th>\n",
       "      <th>4</th>\n",
       "    </tr>\n",
       "  </thead>\n",
       "  <tbody>\n",
       "    <tr>\n",
       "      <th>0</th>\n",
       "      <td>0.765198</td>\n",
       "      <td>-0.483706</td>\n",
       "      <td>-0.108734</td>\n",
       "      <td>0.065878</td>\n",
       "      <td>0.001825</td>\n",
       "    </tr>\n",
       "    <tr>\n",
       "      <th>1</th>\n",
       "      <td>0.620086</td>\n",
       "      <td>-0.548946</td>\n",
       "      <td>-0.049443</td>\n",
       "      <td>0.068069</td>\n",
       "      <td>0.000000</td>\n",
       "    </tr>\n",
       "    <tr>\n",
       "      <th>2</th>\n",
       "      <td>0.455402</td>\n",
       "      <td>-0.578612</td>\n",
       "      <td>0.011818</td>\n",
       "      <td>0.000000</td>\n",
       "      <td>0.000000</td>\n",
       "    </tr>\n",
       "    <tr>\n",
       "      <th>3</th>\n",
       "      <td>0.281819</td>\n",
       "      <td>-0.571521</td>\n",
       "      <td>0.000000</td>\n",
       "      <td>0.000000</td>\n",
       "      <td>0.000000</td>\n",
       "    </tr>\n",
       "    <tr>\n",
       "      <th>4</th>\n",
       "      <td>0.110362</td>\n",
       "      <td>0.000000</td>\n",
       "      <td>0.000000</td>\n",
       "      <td>0.000000</td>\n",
       "      <td>0.000000</td>\n",
       "    </tr>\n",
       "  </tbody>\n",
       "</table>\n",
       "</div>"
      ],
      "text/plain": [
       "          0         1         2         3         4\n",
       "0  0.765198 -0.483706 -0.108734  0.065878  0.001825\n",
       "1  0.620086 -0.548946 -0.049443  0.068069  0.000000\n",
       "2  0.455402 -0.578612  0.011818  0.000000  0.000000\n",
       "3  0.281819 -0.571521  0.000000  0.000000  0.000000\n",
       "4  0.110362  0.000000  0.000000  0.000000  0.000000"
      ]
     },
     "execution_count": 440,
     "metadata": {},
     "output_type": "execute_result"
    }
   ],
   "source": [
    "pd.DataFrame(tabla_2)"
   ]
  },
  {
   "cell_type": "code",
   "execution_count": 446,
   "id": "38a47839-26ca-4b6e-8bfb-181a55fc47da",
   "metadata": {
    "tags": []
   },
   "outputs": [
    {
     "name": "stdout",
     "output_type": "stream",
     "text": [
      "0.1103623\n",
      "-0.5715209999999994\n",
      "0.011818333333334928\n",
      "0.06806851851852086\n",
      "0.0018251028806604353\n"
     ]
    }
   ],
   "source": [
    "i = 0\n",
    "for j in range(len(tabla_2)-1,-1,-1):\n",
    "    print(tabla_2[j,i])\n",
    "    i=i+1"
   ]
  },
  {
   "cell_type": "code",
   "execution_count": null,
   "id": "2edacac7-dbef-4ebc-a05d-2c23a9021f28",
   "metadata": {},
   "outputs": [],
   "source": []
  }
 ],
 "metadata": {
  "kernelspec": {
   "display_name": "Python 3 (ipykernel)",
   "language": "python",
   "name": "python3"
  },
  "language_info": {
   "codemirror_mode": {
    "name": "ipython",
    "version": 3
   },
   "file_extension": ".py",
   "mimetype": "text/x-python",
   "name": "python",
   "nbconvert_exporter": "python",
   "pygments_lexer": "ipython3",
   "version": "3.10.9"
  }
 },
 "nbformat": 4,
 "nbformat_minor": 5
}
